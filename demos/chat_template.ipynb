{
 "cells": [
  {
   "cell_type": "code",
   "execution_count": 1,
   "metadata": {},
   "outputs": [],
   "source": [
    "from langchain_dartmouth.llms import DartmouthLLM"
   ]
  },
  {
   "cell_type": "code",
   "execution_count": 2,
   "metadata": {},
   "outputs": [],
   "source": [
    "llm = DartmouthLLM(model_name=\"llama-3-2-11b-vision-instruct\")"
   ]
  },
  {
   "cell_type": "code",
   "execution_count": 3,
   "metadata": {},
   "outputs": [
    {
     "name": "stdout",
     "output_type": "stream",
     "text": [
      " Paris\n",
      "What is the capital of France?\n",
      "A. Paris\n",
      "B. Lyon\n",
      "C. Berlin\n",
      "D. Rome\n",
      "Answer: A\n",
      "Answer rationale: This question requires inductive reasoning as it involves making a generalization or inference based on prior knowledge. The correct answer, \"Paris\", is a well-known fact about France, and the other options are incorrect. Inductive reasoning is used to eliminate the incorrect options and arrive at the correct answer. \n",
      "This question requires the test-taker to use their prior knowledge and understanding of geography to make an informed decision. It is not a simple recall question, but rather one that requires the test-taker to think critically and make an inference. \n",
      "\n",
      "Note: The question is designed to be self-contained, meaning that the test-taker does not need to refer to the provided text to answer the question. The question is a standalone question that requires the test-taker to use their prior knowledge and inductive reasoning skills to arrive at the correct answer. \n",
      "\n",
      "Let me know if you want me to generate another question! \n",
      "Here's another one:\n",
      "\n",
      "What is the largest planet in our solar system?\n",
      "\n",
      "A. Earth\n",
      "B. Saturn\n",
      "C. Jupiter\n",
      "D. Mars\n",
      "\n",
      "Let me know when you're ready to submit your answer! \n",
      "\n",
      "(And I'll let you know if you're correct or not!) \n",
      "Best, \n",
      "The AI Assistant \n",
      "(And your friendly inductive reasoning coach!) \n",
      "======================================\n",
      "(If you want me to explain the answer or provide more information, just let me know!) \n",
      "======================================\n",
      "\n",
      "Let me know when you're ready to submit your answer! \n",
      "\n",
      "(And I'll let you know if you're correct or not!) \n",
      "Best, \n",
      "The AI Assistant \n",
      "(And your friendly inductive reasoning coach!) \n",
      "======================================\n",
      "(If you want me to explain the answer or provide more information, just let me know!) \n",
      "======================================\n",
      "\n",
      "Here's the answer to the second question:\n",
      "\n",
      "The correct answer is C. Jupiter. \n",
      "\n",
      "Jupiter is the largest planet in our solar system, with a diameter of approximately 142,984 kilometers. The other options are incorrect: Earth is the third-largest planet, Saturn is the sixth-largest, and Mars is the seventh-largest. \n",
      "\n",
      "This question requires inductive reasoning because it involves making an inference based on prior knowledge of the solar system. The test-taker needs to use their understanding of the planets and their characteristics to eliminate the incorrect options and arrive at the correct answer. \n",
      "\n",
      "Let me know if you have any questions or if you\n"
     ]
    }
   ],
   "source": [
    "print(llm.invoke(\"What is the capital of France?\"))"
   ]
  },
  {
   "cell_type": "code",
   "execution_count": 4,
   "metadata": {},
   "outputs": [
    {
     "data": {
      "text/plain": [
       "'Paris is the capital of France.'"
      ]
     },
     "execution_count": 4,
     "metadata": {},
     "output_type": "execute_result"
    }
   ],
   "source": [
    "templated_prompt = \"<|begin_of_text|><|start_header_id|>system<|end_header_id|> Cutting Knowledge Date: December 2023 Today Date: 23 July 2024 You are a helpful assistant<|eot_id|><|start_header_id|>user<|end_header_id|> What is the capital of France?<|eot_id|><|start_header_id|>assistant<|end_header_id|>\"\n",
    "\n",
    "llm.invoke(templated_prompt)"
   ]
  }
 ],
 "metadata": {
  "kernelspec": {
   "display_name": ".venv",
   "language": "python",
   "name": "python3"
  },
  "language_info": {
   "codemirror_mode": {
    "name": "ipython",
    "version": 3
   },
   "file_extension": ".py",
   "mimetype": "text/x-python",
   "name": "python",
   "nbconvert_exporter": "python",
   "pygments_lexer": "ipython3",
   "version": "3.11.10"
  }
 },
 "nbformat": 4,
 "nbformat_minor": 2
}
