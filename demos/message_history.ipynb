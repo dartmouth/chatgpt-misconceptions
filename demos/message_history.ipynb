{
 "cells": [
  {
   "cell_type": "code",
   "execution_count": 1,
   "metadata": {},
   "outputs": [],
   "source": [
    "from langchain_dartmouth.llms import ChatDartmouth"
   ]
  },
  {
   "cell_type": "code",
   "execution_count": 2,
   "metadata": {},
   "outputs": [],
   "source": [
    "llm = ChatDartmouth(model_name=\"llama-3-2-11b-vision-instruct\")"
   ]
  },
  {
   "cell_type": "code",
   "execution_count": 3,
   "metadata": {},
   "outputs": [
    {
     "name": "stdout",
     "output_type": "stream",
     "text": [
      "==================================\u001b[1m Ai Message \u001b[0m==================================\n",
      "\n",
      "The capital of France is Paris.\n"
     ]
    }
   ],
   "source": [
    "first_response = llm.invoke(\"What is the capital of France?\")\n",
    "first_response.pretty_print()"
   ]
  },
  {
   "cell_type": "code",
   "execution_count": 4,
   "metadata": {},
   "outputs": [
    {
     "name": "stdout",
     "output_type": "stream",
     "text": [
      "==================================\u001b[1m Ai Message \u001b[0m==================================\n",
      "\n",
      "Germany has a rich history of innovation and technological advancements. Here are some key facts about Germany:\n",
      "\n",
      "1. **Automotive Industry**: Germany is home to many world-renowned automobile manufacturers such as Mercedes-Benz, BMW, Volkswagen, and Audi.\n",
      "2. **Engineering and Manufacturing**: Germany has a strong tradition of engineering and manufacturing, with companies like Siemens, Bosch, and ThyssenKrupp.\n",
      "3. **Research and Development**: Germany invests heavily in research and development, with many world-class research institutions and universities, such as the Max Planck Society and the University of Berlin.\n",
      "4. **Renewable Energy**: Germany has been at the forefront of renewable energy, with a goal of becoming carbon-neutral by 2050. The country has made significant progress in solar and wind energy.\n",
      "5. **Economic Powerhouse**: Germany is the fourth-largest economy in the world and has a strong economy, with a high standard of living and a highly skilled workforce.\n",
      "\n",
      "Some key statistics about Germany include:\n",
      "\n",
      "* Population: approximately 83 million people\n",
      "* Capital city: Berlin\n",
      "* Official language: German\n",
      "* Currency: Euro\n",
      "* GDP (nominal): over $4 trillion\n",
      "* Top exports: vehicles, machinery, electronics, chemicals, and pharmaceuticals.\n",
      "\n",
      "Germany has a rich cultural heritage, with many famous landmarks, such as Neuschwanstein Castle, the Rhine River, and Berlin's Brandenburg Gate. The country is also known for its vibrant arts and culture scene, with world-class museums, theaters, and music festivals.\n",
      "\n",
      "Germany has a complex history, with periods of great prosperity and great turmoil. The country was unified in 1871 and has since been a major player in European politics and international affairs.\n",
      "\n",
      "Some key historical events in Germany include:\n",
      "\n",
      "* The unification of Germany in 1871\n",
      "* World War I (1914-1918)\n",
      "* The rise of the Nazi Party and World War II (1933-1945)\n",
      "* The division of Germany during the Cold War (1949-1990)\n",
      "* German reunification in 1990\n",
      "\n",
      "Today, Germany is a thriving democracy and a key player in European and global affairs. The country continues to be a hub for innovation, technology, and culture, and is often considered one of the most desirable places to live and work in the world.\n"
     ]
    }
   ],
   "source": [
    "second_response = llm.invoke(\"And Germany?\")\n",
    "second_response.pretty_print()"
   ]
  },
  {
   "cell_type": "code",
   "execution_count": 5,
   "metadata": {},
   "outputs": [
    {
     "name": "stdout",
     "output_type": "stream",
     "text": [
      "==================================\u001b[1m Ai Message \u001b[0m==================================\n",
      "\n",
      "The capital of Germany is Berlin.\n"
     ]
    }
   ],
   "source": [
    "chat_history = [\n",
    "    (\"human\", \"What is the capital of France?\"),\n",
    "    first_response,\n",
    "    (\"human\", \"And Germany?\"),\n",
    "]\n",
    "response = llm.invoke(chat_history)\n",
    "\n",
    "response.pretty_print()"
   ]
  }
 ],
 "metadata": {
  "kernelspec": {
   "display_name": ".venv",
   "language": "python",
   "name": "python3"
  },
  "language_info": {
   "codemirror_mode": {
    "name": "ipython",
    "version": 3
   },
   "file_extension": ".py",
   "mimetype": "text/x-python",
   "name": "python",
   "nbconvert_exporter": "python",
   "pygments_lexer": "ipython3",
   "version": "3.11.10"
  }
 },
 "nbformat": 4,
 "nbformat_minor": 2
}
